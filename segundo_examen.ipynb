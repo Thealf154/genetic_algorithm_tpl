{
 "cells": [
  {
   "cell_type": "markdown",
   "id": "5962b3df",
   "metadata": {
    "lines_to_next_cell": 2
   },
   "source": [
    "# Algoritmo génetico"
   ]
  },
  {
   "cell_type": "markdown",
   "id": "9ced030b",
   "metadata": {
    "lines_to_next_cell": 2
   },
   "source": [
    "- Nombre: Alfredo Vanegas Arcega\n",
    "- Expediente: 297121\n",
    "- Grupo: 35"
   ]
  },
  {
   "cell_type": "code",
   "execution_count": null,
   "id": "35de7ab2",
   "metadata": {
    "lines_to_next_cell": 2
   },
   "outputs": [],
   "source": [
    "import string\n",
    "from typing import Literal\n",
    "import numpy as np"
   ]
  },
  {
   "cell_type": "code",
   "execution_count": null,
   "id": "9447b935",
   "metadata": {
    "lines_to_next_cell": 1
   },
   "outputs": [],
   "source": [
    "ALPHABET = string.ascii_lowercase\n",
    "total_best_genotipes = 100\n",
    "total_genotipes = 400\n",
    "rng = np.random.default_rng(seed=69)\n",
    "# Va en orden de las ciudades\n",
    "PATHS = [\n",
    "    [0,15,8,23,5,9,14,23,3,18,7,8,11,20,8],\n",
    "    [15,0,17,28,24,28,16,23,15,12,17,20,33,21,17],\n",
    "    [8,17,0,27,9,21,13,21,11,9,3,11,18,14,4],\n",
    "    [23,28,27,0,20,25,34,51,19,30,24,17,27,18,28],\n",
    "    [5,24,9,20,0,7,23,39,4,19,13,13,10,5,17],\n",
    "    [9,28,21,25,7,0,26,38,8,22,17,12,5,9,21],\n",
    "    [14,16,13,34,23,26,0,13,18,6,11,12,35,22,11],\n",
    "    [23,23,21,51,39,38,13,0,26,21,20,27,36,31,19],\n",
    "    [3,15,11,19,4,8,18,26,0,14,8,4,11,4,12],\n",
    "    [18,12,9,30,19,22,6,21,14,0,8,15,29,19,6],\n",
    "    [7,17,3,24,13,17,11,20,8,8,0,9,23,13,5],\n",
    "    [8,20,11,17,9,12,12,27,4,15,9,0,17,5,15],\n",
    "    [11,33,18,27,10,5,35,36,11,29,23,17,0,17,20],\n",
    "    [20,21,14,18,5,9,22,31,4,19,13,5,17,0,16],\n",
    "    [8,17,4,28,17,21,11,19,12,6,5,15,20,16,0],\n",
    "]\n",
    "np.random.seed(69)"
   ]
  },
  {
   "cell_type": "code",
   "execution_count": null,
   "id": "ea863cea",
   "metadata": {
    "lines_to_next_cell": 1
   },
   "outputs": [],
   "source": [
    "def evaluate_genotipes(genotipes):\n",
    "    for genotipe in genotipes:\n",
    "        total_score = 0\n",
    "        alleles = genotipe['alleles']\n",
    "        for i in range(len(alleles)-1):\n",
    "            cost = PATHS[alleles[i]][alleles[i+1]]\n",
    "            total_score += cost\n",
    "        total_score += PATHS[alleles[len(alleles)-1]][alleles[0]]\n",
    "        genotipe['fitness'] = total_score\n",
    "    return genotipes"
   ]
  },
  {
   "cell_type": "code",
   "execution_count": null,
   "id": "c832530b",
   "metadata": {},
   "outputs": [],
   "source": [
    "def get_initial_genotipes(total_genotipes):\n",
    "    generated_genotipes = [] \n",
    "    for _ in range(0, total_genotipes):\n",
    "        genotipe = []\n",
    "        # La lista inicial consiste de todas las ciudades disponibles\n",
    "        available_choices = [x for x in range(len(PATHS))]\n",
    "        for _ in range(0, len(PATHS)):\n",
    "            letter_index = np.random.randint(0, len(available_choices))\n",
    "            letter = available_choices[letter_index]\n",
    "            # Se quita la ciudad para que no se repita de nuevo\n",
    "            available_choices.remove(letter)\n",
    "            genotipe.append(letter) \n",
    "        generated_genotipes.append({'alleles': genotipe, 'fitness': 0})\n",
    "    generated_genotipes = evaluate_genotipes(generated_genotipes)\n",
    "    return generated_genotipes"
   ]
  },
  {
   "cell_type": "code",
   "execution_count": null,
   "id": "68c0f5a8",
   "metadata": {},
   "outputs": [],
   "source": [
    "def get_best_genotipes(genotipes, best_genotipes_kept):\n",
    "    best_genotipes = []\n",
    "    scores = [genotipe['fitness'] for genotipe in genotipes]\n",
    "    scores.sort(reverse=False)\n",
    "    best_scores = list(set(scores[:best_genotipes_kept])) \n",
    "    for i in range(0, len(genotipes)):\n",
    "        if len(best_genotipes) == best_genotipes_kept:\n",
    "            break\n",
    "        if genotipes[i]['fitness'] in best_scores:\n",
    "            best_genotipes.append(genotipes[i])\n",
    "    return best_genotipes"
   ]
  },
  {
   "cell_type": "code",
   "execution_count": null,
   "id": "d8eda416",
   "metadata": {},
   "outputs": [],
   "source": [
    "def inversion_mutation(genotipes):\n",
    "    for genotipe in genotipes:\n",
    "        ran_start = np.random.randint(0, len(genotipe['alleles']) - 1)\n",
    "        ran_end = np.random.randint(ran_start + 2, len(genotipe['alleles']) + 1)\n",
    "        mutation = genotipe['alleles'][ran_start:ran_end]\n",
    "        mutation.reverse()\n",
    "        genotipe['alleles'][ran_start:ran_end] = mutation\n",
    "    return genotipes"
   ]
  },
  {
   "cell_type": "code",
   "execution_count": null,
   "id": "a8aba8f4",
   "metadata": {},
   "outputs": [],
   "source": [
    "def displacement_mutation(genotipes):\n",
    "    for genotipe in genotipes:\n",
    "        ran_start = np.random.randint(0, len(genotipe['alleles']) - 1)\n",
    "        ran_end = np.random.randint(ran_start + 1, len(genotipe['alleles']))\n",
    "        unavailable_choices = [x for x in range(ran_start, ran_end+1)]\n",
    "        choices = [x for x in range(0, len(genotipe['alleles'])) if not x in unavailable_choices]\n",
    "        if not len(choices) == 0:\n",
    "            ran_pos = np.random.choice(choices)\n",
    "            choices.remove(ran_pos)\n",
    "        else:\n",
    "            continue\n",
    "        #selection = genotipe['alleles'][ran_start:ran_end+1]\n",
    "        #displacement = genotipe['alleles'][ran_pos:ran_start]\n",
    "        genotipe['alleles'][ran_start:ran_end+1], genotipe['alleles'][ran_pos:ran_start] = genotipe['alleles'][ran_pos:ran_start], genotipe['alleles'][ran_start:ran_end+1]\n",
    "    return genotipes"
   ]
  },
  {
   "cell_type": "code",
   "execution_count": null,
   "id": "098528f7",
   "metadata": {},
   "outputs": [],
   "source": [
    "def exchange_mutation(genotipes):\n",
    "    mutations = []\n",
    "    for genotipe in genotipes:\n",
    "        ran_pos1, ran_pos2 = np.sort(rng.choice(np.arange(len(genotipe['alleles'])), size=2, replace=False))\n",
    "        aux = genotipe['alleles'][ran_pos1]\n",
    "        genotipe['alleles'][ran_pos1] = genotipe['alleles'][ran_pos2]\n",
    "        genotipe['alleles'][ran_pos2] = aux\n",
    "        mutations.append(genotipe)\n",
    "    return mutations"
   ]
  },
  {
   "cell_type": "code",
   "execution_count": null,
   "id": "4a520d09",
   "metadata": {},
   "outputs": [],
   "source": [
    "def insertion_mutation(genotipes):\n",
    "    for genotipe in genotipes:\n",
    "        ran_index = np.random.randint(0, len(genotipe['alleles']))\n",
    "        ran_pos = np.random.randint(0, len(genotipe['alleles']))\n",
    "        letter = genotipe['alleles'][ran_index]\n",
    "        aux = genotipe['alleles'][ran_pos]\n",
    "        genotipe['alleles'][ran_pos] = letter\n",
    "        genotipe['alleles'][ran_index] = aux\n",
    "    return genotipes"
   ]
  },
  {
   "cell_type": "code",
   "execution_count": null,
   "id": "e4de9763",
   "metadata": {},
   "outputs": [],
   "source": [
    "def inverted_exchange_mutation(genotipes):\n",
    "    for genotipe in genotipes:\n",
    "        ran_start, ran_end = np.sort(rng.choice(np.arange(len(genotipe['alleles'])), size=2, replace=False))\n",
    "        selection = genotipe['alleles'][ran_start:ran_end]\n",
    "        selection.reverse()\n",
    "        genotipe['alleles'][ran_start:ran_end] = selection\n",
    "        ran_ex1 = np.random.randint(0, len(selection))\n",
    "        ran_ex2 = np.random.randint(0, len(genotipe['alleles']))\n",
    "        aux = genotipe['alleles'][ran_ex1]\n",
    "        genotipe['alleles'][ran_ex1] = genotipe['alleles'][ran_ex2]\n",
    "        genotipe['alleles'][ran_ex2] = aux\n",
    "    return genotipes"
   ]
  },
  {
   "cell_type": "code",
   "execution_count": null,
   "id": "8326c87b",
   "metadata": {},
   "outputs": [],
   "source": [
    "def inverted_displacement_mutation(genotipes):\n",
    "    for genotipe in genotipes:\n",
    "        ran_start, ran_end = np.sort(rng.choice(np.arange(len(genotipe['alleles'])), size=2, replace=False))\n",
    "        ran_pos = np.random.randint(0, ran_end - ran_start)\n",
    "        genotipe['alleles'][ran_start:ran_end].reverse() #selection\n",
    "        #displacement = genotipe['alleles'][ran_pos:ran_start]\n",
    "        genotipe['alleles'][ran_start:ran_end], genotipe['alleles'][ran_pos:ran_start] =  genotipe['alleles'][ran_pos:ran_start], genotipe['alleles'][ran_start:ran_end]\n",
    "    return genotipes"
   ]
  },
  {
   "cell_type": "code",
   "execution_count": null,
   "id": "d8fc538a",
   "metadata": {},
   "outputs": [],
   "source": [
    "def pmx_offspring(parent1, parent2):\n",
    "    cut1, cut2 = np.sort(rng.choice(np.arange(len(parent1)+1), size=2, replace=False))\n",
    "    offspring = ['' for x in range(0, len(parent1))]\n",
    "\n",
    "    offspring[cut1:cut2] = parent1[cut1:cut2]\n",
    "    rest_index = np.concatenate([np.arange(0, cut1), np.arange(cut2, len(parent1))])\n",
    "    for i in rest_index:\n",
    "        candidate = parent2[i]\n",
    "        while candidate in parent1[cut1:cut2]:\n",
    "            candidate = parent2[np.where(parent1 == candidate)[0][0]]\n",
    "\n",
    "        offspring[i] = candidate\n",
    "    return offspring"
   ]
  },
  {
   "cell_type": "code",
   "execution_count": null,
   "id": "343fe431",
   "metadata": {
    "lines_to_next_cell": 1
   },
   "outputs": [],
   "source": [
    "def pmx_crossing(genotipes, total_offspring):\n",
    "    childs = []\n",
    "    for _ in range(0, int(np.floor(total_offspring / 2))):\n",
    "        p1, p2 = np.sort(rng.choice(np.arange(len(genotipes)), size=2, replace=False))\n",
    "        parent1, parent2 = np.array(genotipes[p1]['alleles']), np.array(genotipes[p2]['alleles'])\n",
    "        offspring0 = pmx_offspring(parent1, parent2)\n",
    "        offspring1 = pmx_offspring(parent2, parent1)\n",
    "        childs.append({'alleles': offspring0, 'fitness': 0})\n",
    "        childs.append({'alleles': offspring1, 'fitness': 0})\n",
    "    return childs "
   ]
  },
  {
   "cell_type": "code",
   "execution_count": null,
   "id": "f8df2bd9",
   "metadata": {},
   "outputs": [],
   "source": [
    "def insert_random_letter(genotipes):\n",
    "    for genotipe in genotipes:\n",
    "        available_letters = [x for x in ALPHABET if x not in genotipe['alleles']]\n",
    "        ran_pos = np.random.randint(0, len(genotipe['alleles']))\n",
    "        ran_letter = np.random.randint(0, len(available_letters))\n",
    "        letter = available_letters[ran_letter]\n",
    "        genotipe['alleles'][ran_pos] = letter\n",
    "    return genotipes"
   ]
  },
  {
   "cell_type": "code",
   "execution_count": null,
   "id": "5a4efe4e",
   "metadata": {},
   "outputs": [],
   "source": [
    "def get_perfect_genotipe(genotipes, max_score):\n",
    "    for genotipe in genotipes:\n",
    "        if genotipe['fitness'] == max_score:\n",
    "            return genotipe\n",
    "    return None"
   ]
  },
  {
   "cell_type": "code",
   "execution_count": null,
   "id": "44ab28ea",
   "metadata": {},
   "outputs": [],
   "source": [
    "def has_perfect_genotipe(genotipes, max_score):\n",
    "    for genotipe in genotipes:\n",
    "        if genotipe['fitness'] == max_score:\n",
    "            return True\n",
    "    return False"
   ]
  },
  {
   "cell_type": "code",
   "execution_count": null,
   "id": "b767982d",
   "metadata": {},
   "outputs": [],
   "source": [
    "def get_best_genotipe(genotipes):\n",
    "    best_score = genotipes[0]['fitness']\n",
    "    best_genotipe = genotipes[0]\n",
    "    for genotipe in genotipes:\n",
    "        if genotipe['fitness'] < best_score:\n",
    "            best_score = genotipe['fitness']\n",
    "            best_genotipe = genotipe\n",
    "    return best_genotipe"
   ]
  },
  {
   "cell_type": "code",
   "execution_count": null,
   "id": "484d0167",
   "metadata": {
    "lines_to_next_cell": 1
   },
   "outputs": [],
   "source": [
    "def evolution_loop(\n",
    "    total_genotipes: int, \n",
    "    best_genotipes_kept: int, \n",
    "    total_generations: int, \n",
    "    operator: Literal['inversion', \n",
    "                      'displacement', \n",
    "                      'exchange', \n",
    "                      'insertion', \n",
    "                      'inverted_exchange', \n",
    "                      'inverted_displacement']\n",
    "):\n",
    "    mutation_operator = inversion_mutation\n",
    "    if operator == \"inversion\":\n",
    "        mutation_operator = inversion_mutation\n",
    "    elif operator == \"displacement\":\n",
    "        mutation_operator = displacement_mutation\n",
    "    elif operator == \"exchange\":\n",
    "        mutation_operator = exchange_mutation\n",
    "    elif operator == \"insertion\":\n",
    "        mutation_operator = insertion_mutation\n",
    "    elif operator == \"inverted_exchange\":\n",
    "        mutation_operator = inverted_exchange_mutation\n",
    "    elif operator == \"inverted_displacement\":\n",
    "        mutation_operator = inverted_displacement_mutation\n",
    "\n",
    "    # Initial variables\n",
    "    generations_count = 0\n",
    "    genotipes = get_initial_genotipes(total_genotipes)\n",
    "    for _ in range(total_generations):\n",
    "        best_genotipes = get_best_genotipes(genotipes, best_genotipes_kept)\n",
    "        genotipes = pmx_crossing(best_genotipes, total_genotipes - len(best_genotipes))\n",
    "        genotipes.extend(best_genotipes)\n",
    "        genotipes = mutation_operator(genotipes) \n",
    "        genotipes = evaluate_genotipes(genotipes)\n",
    "        best_genotipe = get_best_genotipe(genotipes)\n",
    "        generations_count += 1\n",
    "        print(\"Generación: \" , generations_count)\n",
    "        print(\"Mejor: \", best_genotipe)"
   ]
  },
  {
   "cell_type": "code",
   "execution_count": null,
   "id": "466b346c",
   "metadata": {},
   "outputs": [],
   "source": [
    "evolution_loop(\n",
    "    total_genotipes=800,\n",
    "    best_genotipes_kept=50,\n",
    "    total_generations=100,\n",
    "    operator=\"inversion\"\n",
    ")"
   ]
  }
 ],
 "metadata": {
  "jupytext": {
   "cell_metadata_filter": "-all",
   "main_language": "python",
   "notebook_metadata_filter": "-all"
  },
  "language_info": {
   "name": "python"
  }
 },
 "nbformat": 4,
 "nbformat_minor": 5
}
